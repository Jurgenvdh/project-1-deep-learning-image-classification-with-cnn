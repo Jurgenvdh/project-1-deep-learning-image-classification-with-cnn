{
  "nbformat": 4,
  "nbformat_minor": 0,
  "metadata": {
    "colab": {
      "provenance": [],
      "machine_shape": "hm",
      "gpuType": "T4",
      "authorship_tag": "ABX9TyNz7g/gEQ30m1x1SkCgLmHi",
      "include_colab_link": true
    },
    "kernelspec": {
      "name": "python3",
      "display_name": "Python 3"
    },
    "language_info": {
      "name": "python"
    },
    "accelerator": "GPU"
  },
  "cells": [
    {
      "cell_type": "markdown",
      "metadata": {
        "id": "view-in-github",
        "colab_type": "text"
      },
      "source": [
        "<a href=\"https://colab.research.google.com/github/Jurgenvdh/project-1-deep-learning-image-classification-with-cnn/blob/main/Project_1_Deep_Learning_Image_Classification_with_CNN.ipynb\" target=\"_parent\"><img src=\"https://colab.research.google.com/assets/colab-badge.svg\" alt=\"Open In Colab\"/></a>"
      ]
    },
    {
      "cell_type": "code",
      "source": [
        "import tensorflow as tf\n",
        "from tensorflow.keras import datasets, layers, models, regularizers\n",
        "from tensorflow.keras.preprocessing.image import ImageDataGenerator\n",
        "from tensorflow.keras.callbacks import LearningRateScheduler, EarlyStopping\n",
        "from tensorflow.keras.layers import BatchNormalization, Dropout\n",
        "from sklearn.metrics import classification_report, confusion_matrix\n",
        "from tensorflow.keras.optimizers import Adam\n",
        "import matplotlib.pyplot as plt\n",
        "import seaborn as sns\n",
        "import numpy as np\n",
        "\n",
        "# Step 1: Load and Preprocess the Data\n",
        "# Load CIFAR-10 dataset\n",
        "(train_images, train_labels), (test_images, test_labels) = datasets.cifar10.load_data()\n",
        "\n",
        "# Normalize the images to have mean 0 and standard deviation 1\n",
        "mean = train_images.mean(axis=(0, 1, 2), keepdims=True)\n",
        "std = train_images.std(axis=(0, 1, 2), keepdims=True)\n",
        "train_images = (train_images - mean) / std\n",
        "test_images = (test_images - mean) / std\n",
        "\n",
        "# Step 2: Data Augmentation\n",
        "# Define data augmentation pipeline using ImageDataGenerator\n",
        "datagen = ImageDataGenerator(\n",
        "    rotation_range=15,          # Rotate images up to 15 degrees\n",
        "    horizontal_flip=True,       # Randomly flip images horizontally\n",
        "    width_shift_range=0.1,      # Randomly shift images horizontally by 10% of the width\n",
        "    height_shift_range=0.1      # Randomly shift images vertically by 10% of the height\n",
        ")\n",
        "datagen.fit(train_images)\n",
        "\n",
        "# Step 3: Define the Model Architecture\n",
        "# Build a convolutional neural network (CNN) using Keras Sequential API\n",
        "model = models.Sequential()\n",
        "\n",
        "# Convolutional Block 1\n",
        "model.add(layers.Conv2D(64, (3, 3), padding='same', kernel_regularizer=regularizers.l2(),\n",
        "                        input_shape=(32, 32, 3)))  # First convolutional layer\n",
        "model.add(BatchNormalization())                    # Normalize activations\n",
        "model.add(layers.Activation('relu'))               # Apply ReLU activation\n",
        "model.add(layers.Conv2D(64, (3, 3), padding='same', kernel_regularizer=regularizers.l2()))\n",
        "model.add(BatchNormalization())\n",
        "model.add(layers.Activation('relu'))\n",
        "model.add(layers.MaxPooling2D(pool_size=(2, 2)))   # Down-sample the feature maps\n",
        "model.add(Dropout(0.2))                            # Regularization using Dropout\n",
        "\n",
        "# Convolutional Block 2\n",
        "model.add(layers.Conv2D(128, (3, 3), padding='same', kernel_regularizer=regularizers.l2()))\n",
        "model.add(BatchNormalization())\n",
        "model.add(layers.Activation('relu'))\n",
        "model.add(layers.Conv2D(128, (3, 3), padding='same', kernel_regularizer=regularizers.l2()))\n",
        "model.add(BatchNormalization())\n",
        "model.add(layers.Activation('relu'))\n",
        "model.add(layers.MaxPooling2D(pool_size=(2, 2)))\n",
        "model.add(Dropout(0.3))\n",
        "\n",
        "# Convolutional Block 3\n",
        "model.add(layers.Conv2D(256, (3, 3), padding='same', kernel_regularizer=regularizers.l2()))\n",
        "model.add(BatchNormalization())\n",
        "model.add(layers.Activation('relu'))\n",
        "model.add(layers.Conv2D(256, (3, 3), padding='same', kernel_regularizer=regularizers.l2()))\n",
        "model.add(BatchNormalization())\n",
        "model.add(layers.Activation('relu'))\n",
        "model.add(layers.MaxPooling2D(pool_size=(2, 2)))\n",
        "model.add(Dropout(0.4))\n",
        "\n",
        "# Fully Connected Layer\n",
        "model.add(layers.Flatten())                        # Flatten the 3D feature maps into 1D vector\n",
        "model.add(layers.Dense(10))                        # Output layer with 10 units for 10 classes\n",
        "\n",
        "# Step 4: Compile the Model\n",
        "# Define optimizer and compile the model\n",
        "optimizer = Adam(learning_rate=0.001)  # Use Adam optimizer with initial learning rate 0.001\n",
        "model.compile(optimizer=optimizer,\n",
        "              loss=tf.keras.losses.SparseCategoricalCrossentropy(from_logits=True),\n",
        "              metrics=['accuracy'])\n",
        "\n",
        "# Step 5: Define Callbacks\n",
        "# Learning rate scheduler to adjust the learning rate during training\n",
        "# Learning rate scheduler to adjust the learning rate during training\n",
        "def lr_scheduler(epoch):\n",
        "    if epoch < 30:\n",
        "        return 0.001\n",
        "    else:\n",
        "        return 0.0001  # Fixed indentation here\n",
        "\n",
        "lr_callback = LearningRateScheduler(lr_scheduler)\n",
        "\n",
        "# Early stopping to prevent overfitting\n",
        "early_stopping = EarlyStopping(monitor='val_loss', mode='min', verbose=1,\n",
        "                                patience=15, restore_best_weights=True)\n",
        "\n",
        "# Step 6: Train the Model\n",
        "# Train the model using augmented data and defined callbacks\n",
        "history = model.fit(datagen.flow(train_images, train_labels, batch_size=100),\n",
        "                    epochs=50,\n",
        "                    validation_data=(test_images, test_labels),\n",
        "                    callbacks=[lr_callback, early_stopping])\n",
        "\n",
        "\n",
        "# Step 7: Evaluate the Model\n",
        "# Evaluate the trained model on the test dataset\n",
        "test_loss, test_accuracy = model.evaluate(test_images, test_labels, verbose=0)\n",
        "print(f\"Test Accuracy: {test_accuracy:.4f}\")\n",
        "print(f\"Test Loss: {test_loss:.4f}\")\n",
        "\n",
        "# Predict on the test dataset\n",
        "y_pred_logits = model.predict(test_images)\n",
        "y_pred = np.argmax(y_pred_logits, axis=1)  # Convert logits to class predictions\n",
        "y_true = test_labels.flatten()             # Flatten true labels for evaluation\n",
        "\n",
        "# Plot training & validation accuracy and loss\n",
        "plt.figure(figsize=(10, 4))\n",
        "plt.subplot(1, 2, 1)\n",
        "plt.plot(history.history['accuracy'], label='Train')\n",
        "plt.plot(history.history['val_accuracy'], label='Test')\n",
        "plt.title('Model accuracy')\n",
        "plt.ylabel('Accuracy')\n",
        "plt.xlabel('Epoch')\n",
        "plt.legend()\n",
        "\n",
        "# Step 8: Compute Metrics\n",
        "# Generate a classification report\n",
        "report = classification_report(y_true, y_pred, target_names=[\n",
        "    \"Airplane\", \"Automobile\", \"Bird\", \"Cat\", \"Deer\", \"Dog\", \"Frog\", \"Horse\", \"Ship\", \"Truck\"\n",
        "], digits=4)\n",
        "print(\"\\nClassification Report:\\n\")\n",
        "print(report)\n",
        "\n",
        "# Step 9: Visualize the Confusion Matrix\n",
        "# Generate the confusion matrix\n",
        "conf_matrix = confusion_matrix(y_true, y_pred)\n",
        "\n",
        "# Plot the confusion matrix as a heatmap\n",
        "plt.figure(figsize=(10, 8))\n",
        "sns.heatmap(conf_matrix, annot=True, fmt='d', cmap='Blues', xticklabels=[\n",
        "    \"Airplane\", \"Automobile\", \"Bird\", \"Cat\", \"Deer\", \"Dog\", \"Frog\", \"Horse\", \"Ship\", \"Truck\"\n",
        "], yticklabels=[\n",
        "    \"Airplane\", \"Automobile\", \"Bird\", \"Cat\", \"Deer\", \"Dog\", \"Frog\", \"Horse\", \"Ship\", \"Truck\"\n",
        "])\n",
        "plt.xlabel('Predicted Labels')\n",
        "plt.ylabel('True Labels')\n",
        "plt.title('Confusion Matrix')\n",
        "plt.show()"
      ],
      "metadata": {
        "id": "Wp8Y27hWHf-9",
        "colab": {
          "base_uri": "https://localhost:8080/"
        },
        "outputId": "23d1ec93-f92f-47ce-ee99-eefada1ad331",
        "collapsed": true
      },
      "execution_count": null,
      "outputs": [
        {
          "output_type": "stream",
          "name": "stderr",
          "text": [
            "/usr/local/lib/python3.10/dist-packages/keras/src/layers/convolutional/base_conv.py:107: UserWarning: Do not pass an `input_shape`/`input_dim` argument to a layer. When using Sequential models, prefer using an `Input(shape)` object as the first layer in the model instead.\n",
            "  super().__init__(activity_regularizer=activity_regularizer, **kwargs)\n"
          ]
        },
        {
          "output_type": "stream",
          "name": "stdout",
          "text": [
            "Epoch 1/50\n"
          ]
        },
        {
          "output_type": "stream",
          "name": "stderr",
          "text": [
            "/usr/local/lib/python3.10/dist-packages/keras/src/trainers/data_adapters/py_dataset_adapter.py:122: UserWarning: Your `PyDataset` class should call `super().__init__(**kwargs)` in its constructor. `**kwargs` can include `workers`, `use_multiprocessing`, `max_queue_size`. Do not pass these arguments to `fit()`, as they will be ignored.\n",
            "  self._warn_if_super_not_called()\n"
          ]
        },
        {
          "output_type": "stream",
          "name": "stdout",
          "text": [
            "\u001b[1m500/500\u001b[0m \u001b[32m━━━━━━━━━━━━━━━━━━━━\u001b[0m\u001b[37m\u001b[0m \u001b[1m41s\u001b[0m 66ms/step - accuracy: 0.3210 - loss: 6.4456 - val_accuracy: 0.5005 - val_loss: 1.8897 - learning_rate: 0.0010\n",
            "Epoch 2/50\n",
            "\u001b[1m500/500\u001b[0m \u001b[32m━━━━━━━━━━━━━━━━━━━━\u001b[0m\u001b[37m\u001b[0m \u001b[1m32s\u001b[0m 62ms/step - accuracy: 0.5146 - loss: 1.8617 - val_accuracy: 0.5488 - val_loss: 1.8173 - learning_rate: 0.0010\n",
            "Epoch 3/50\n",
            "\u001b[1m500/500\u001b[0m \u001b[32m━━━━━━━━━━━━━━━━━━━━\u001b[0m\u001b[37m\u001b[0m \u001b[1m31s\u001b[0m 62ms/step - accuracy: 0.5687 - loss: 1.7210 - val_accuracy: 0.4285 - val_loss: 2.7342 - learning_rate: 0.0010\n",
            "Epoch 4/50\n",
            "\u001b[1m500/500\u001b[0m \u001b[32m━━━━━━━━━━━━━━━━━━━━\u001b[0m\u001b[37m\u001b[0m \u001b[1m32s\u001b[0m 62ms/step - accuracy: 0.5843 - loss: 1.7124 - val_accuracy: 0.3824 - val_loss: 2.5965 - learning_rate: 0.0010\n",
            "Epoch 5/50\n",
            "\u001b[1m110/500\u001b[0m \u001b[32m━━━━\u001b[0m\u001b[37m━━━━━━━━━━━━━━━━\u001b[0m \u001b[1m22s\u001b[0m 59ms/step - accuracy: 0.5991 - loss: 1.6381"
          ]
        }
      ]
    },
    {
      "cell_type": "code",
      "source": [
        "# Evaluate the model\n",
        "test_loss, test_acc = model.evaluate(test_images, test_labels, verbose=2)\n",
        "\n",
        "# Plot training & validation accuracy and loss\n",
        "plt.figure(figsize=(10, 4))\n",
        "plt.subplot(1, 2, 1)\n",
        "plt.plot(history.history['accuracy'], label='Train')\n",
        "plt.plot(history.history['val_accuracy'], label='Test')\n",
        "plt.title('Model accuracy')\n",
        "plt.ylabel('Accuracy')\n",
        "plt.xlabel('Epoch')\n",
        "plt.legend()"
      ],
      "metadata": {
        "colab": {
          "base_uri": "https://localhost:8080/",
          "height": 445
        },
        "id": "LQFi3QnjZX3U",
        "outputId": "72819b75-f7c1-485b-eda9-487f49e476cc"
      },
      "execution_count": 19,
      "outputs": [
        {
          "output_type": "stream",
          "name": "stdout",
          "text": [
            "313/313 - 1s - 4ms/step - accuracy: 0.9065 - loss: 0.4799\n"
          ]
        },
        {
          "output_type": "execute_result",
          "data": {
            "text/plain": [
              "<matplotlib.legend.Legend at 0x7f55d14d9630>"
            ]
          },
          "metadata": {},
          "execution_count": 19
        },
        {
          "output_type": "display_data",
          "data": {
            "text/plain": [
              "<Figure size 1000x400 with 1 Axes>"
            ],
            "image/png": "[encoded data removed]"
          },
          "metadata": {}
        }
      ]
    },
    {
      "cell_type": "code",
      "source": [
        "model.save('cifar_model.h5')"
      ],
      "metadata": {
        "colab": {
          "base_uri": "https://localhost:8080/"
        },
        "id": "knYH3twnN7Nb",
        "outputId": "d620aa91-bb74-4dd4-8882-a0210686ad70"
      },
      "execution_count": 22,
      "outputs": [
        {
          "output_type": "stream",
          "name": "stderr",
          "text": [
            "WARNING:absl:You are saving your model as an HDF5 file via `model.save()` or `keras.saving.save_model(model)`. This file format is considered legacy. We recommend using instead the native Keras format, e.g. `model.save('my_model.keras')` or `keras.saving.save_model(model, 'my_model.keras')`. \n"
          ]
        }
      ]
    }
  ]
}